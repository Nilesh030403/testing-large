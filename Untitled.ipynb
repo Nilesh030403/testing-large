{
 "cells": [
  {
   "cell_type": "code",
   "execution_count": 23,
   "id": "2265a56c",
   "metadata": {},
   "outputs": [
    {
     "name": "stdout",
     "output_type": "stream",
     "text": [
      "19\n",
      "You have entered wrong output\n"
     ]
    }
   ],
   "source": [
    "def get_primenumbers(n):\n",
    "    if type(n) == str:\n",
    "        print(\"You have entered wrong output\")\n",
    "    else:\n",
    "        for i in range(2,n):\n",
    "            is_prime = True\n",
    "            for num in range(2,i):\n",
    "                if (i%num == 0):\n",
    "                    is_prime = False\n",
    "            if (is_prime):\n",
    "                print(i, end = ' ')\n",
    "                \n",
    "a = input()\n",
    "for ele in a:\n",
    "    if type(ele) == str:\n",
    "        n = a\n",
    "    else:\n",
    "        n = int(a)\n",
    "\n",
    "get_primenumbers(n)\n",
    "                    "
   ]
  },
  {
   "cell_type": "code",
   "execution_count": 25,
   "id": "bdc6b775",
   "metadata": {},
   "outputs": [
    {
     "name": "stdout",
     "output_type": "stream",
     "text": [
      "15\n",
      "<class 'str'>\n"
     ]
    }
   ],
   "source": [
    "a = input()\n",
    "for ele in a:\n",
    "    if type(ele) == str:\n",
    "        b = a\n",
    "        break\n",
    "        \n",
    "    else:\n",
    "        b = int(a)\n",
    "print(type(b))"
   ]
  },
  {
   "cell_type": "code",
   "execution_count": 26,
   "id": "f2220d10",
   "metadata": {},
   "outputs": [
    {
     "name": "stdout",
     "output_type": "stream",
     "text": [
      "23\n",
      "2\n",
      "<class 'str'>\n",
      "3\n",
      "<class 'str'>\n"
     ]
    }
   ],
   "source": [
    "a = input()\n",
    "for ele in a:\n",
    "    print(ele)\n",
    "    print(type(ele))import "
   ]
  },
  {
   "cell_type": "code",
   "execution_count": 5,
   "id": "4479c4db",
   "metadata": {},
   "outputs": [
    {
     "name": "stdout",
     "output_type": "stream",
     "text": [
      "2.0\n"
     ]
    }
   ],
   "source": [
    "import numpy as np\n",
    "from math import log, exp, e\n",
    "\n",
    "X = float(input())\n",
    "x = float(input())\n",
    "X = float(input())\n",
    "X = float(input())\n",
    "xe1 = 120\n",
    "\n",
    "alpha1 = 0.33\n",
    "\n",
    "a  = log(e**2)\n",
    "print(a)\n",
    "\n"
   ]
  },
  {
   "cell_type": "code",
   "execution_count": null,
   "id": "364505a8",
   "metadata": {},
   "outputs": [],
   "source": [
    "lst1 = []  \n",
    "  \n",
    "lst1 = [int(item) for item in input(\"Enter the list items : \").split()]\n",
    "\n",
    "xmin = min(lst1)\n",
    "xmax = max(lst1)\n"
   ]
  }
 ],
 "metadata": {
  "kernelspec": {
   "display_name": "Python 3",
   "language": "python",
   "name": "python3"
  },
  "language_info": {
   "codemirror_mode": {
    "name": "ipython",
    "version": 3
   },
   "file_extension": ".py",
   "mimetype": "text/x-python",
   "name": "python",
   "nbconvert_exporter": "python",
   "pygments_lexer": "ipython3",
   "version": "3.8.8"
  }
 },
 "nbformat": 4,
 "nbformat_minor": 5
}
