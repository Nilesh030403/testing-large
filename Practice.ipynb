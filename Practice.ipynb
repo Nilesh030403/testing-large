{
 "cells": [
  {
   "cell_type": "code",
   "execution_count": 2,
   "id": "0a931436",
   "metadata": {},
   "outputs": [
    {
     "name": "stdout",
     "output_type": "stream",
     "text": [
      "Hello\n"
     ]
    }
   ],
   "source": [
    "print (\"Hello\")"
   ]
  },
  {
   "cell_type": "markdown",
   "id": "df47c455",
   "metadata": {},
   "source": [
    "# Strings\n"
   ]
  },
  {
   "cell_type": "code",
   "execution_count": 1,
   "id": "6a43b3c5",
   "metadata": {},
   "outputs": [
    {
     "name": "stdout",
     "output_type": "stream",
     "text": [
      "14\n"
     ]
    }
   ],
   "source": [
    "s = \"This is stupid\"\n",
    "print(len(s))\n"
   ]
  },
  {
   "cell_type": "code",
   "execution_count": 2,
   "id": "288703bf",
   "metadata": {},
   "outputs": [
    {
     "data": {
      "text/plain": [
       "'This is st'"
      ]
     },
     "execution_count": 2,
     "metadata": {},
     "output_type": "execute_result"
    }
   ],
   "source": [
    "s[0:10]"
   ]
  },
  {
   "cell_type": "code",
   "execution_count": 3,
   "id": "9564e0fa",
   "metadata": {},
   "outputs": [
    {
     "data": {
      "text/plain": [
       "'Tsst'"
      ]
     },
     "execution_count": 3,
     "metadata": {},
     "output_type": "execute_result"
    }
   ],
   "source": [
    "s[0:11:3]"
   ]
  },
  {
   "cell_type": "code",
   "execution_count": 4,
   "id": "a0d2ea5b",
   "metadata": {},
   "outputs": [
    {
     "data": {
      "text/plain": [
       "'Ti ssui'"
      ]
     },
     "execution_count": 4,
     "metadata": {},
     "output_type": "execute_result"
    }
   ],
   "source": [
    "s[::2]"
   ]
  },
  {
   "cell_type": "code",
   "execution_count": 5,
   "id": "7b566c62",
   "metadata": {},
   "outputs": [
    {
     "data": {
      "text/plain": [
       "3"
      ]
     },
     "execution_count": 5,
     "metadata": {},
     "output_type": "execute_result"
    }
   ],
   "source": [
    "x = \"my name is\"\n",
    "x.find(\"n\")              # Press tab after . to get find, format these kind of techniques"
   ]
  },
  {
   "cell_type": "code",
   "execution_count": 7,
   "id": "3af4ea25",
   "metadata": {},
   "outputs": [
    {
     "name": "stdout",
     "output_type": "stream",
     "text": [
      "3\n",
      "4\n",
      "0\n",
      "6\n"
     ]
    }
   ],
   "source": [
    "for i in \"name\":\n",
    "    print(x.find(i)) # This wrong method since it will return index of first m"
   ]
  },
  {
   "cell_type": "code",
   "execution_count": 11,
   "id": "5cde92c5",
   "metadata": {},
   "outputs": [
    {
     "name": "stdout",
     "output_type": "stream",
     "text": [
      "3\n",
      "3\n",
      "4\n",
      "5\n",
      "6\n"
     ]
    }
   ],
   "source": [
    "b = x.find(\"name\")\n",
    "print(b)\n",
    "for i in range(len(\"name\")):\n",
    "    print(b+i)                                # correct method\n",
    "    "
   ]
  },
  {
   "cell_type": "code",
   "execution_count": 12,
   "id": "438c432e",
   "metadata": {},
   "outputs": [
    {
     "data": {
      "text/plain": [
       "2"
      ]
     },
     "execution_count": 12,
     "metadata": {},
     "output_type": "execute_result"
    }
   ],
   "source": [
    "x.count(\"m\")"
   ]
  },
  {
   "cell_type": "code",
   "execution_count": 13,
   "id": "1077d88a",
   "metadata": {},
   "outputs": [
    {
     "data": {
      "text/plain": [
       "['my', 'name', 'is']"
      ]
     },
     "execution_count": 13,
     "metadata": {},
     "output_type": "execute_result"
    }
   ],
   "source": [
    "x.split()"
   ]
  },
  {
   "cell_type": "code",
   "execution_count": 14,
   "id": "c8da3b8d",
   "metadata": {},
   "outputs": [
    {
     "data": {
      "text/plain": [
       "['', 'y na', 'e is']"
      ]
     },
     "execution_count": 14,
     "metadata": {},
     "output_type": "execute_result"
    }
   ],
   "source": [
    "x.split('m')             # sting will be separated at the palce of letter and return value as list"
   ]
  },
  {
   "cell_type": "code",
   "execution_count": 15,
   "id": "d33f250a",
   "metadata": {},
   "outputs": [
    {
     "data": {
      "text/plain": [
       "'si eman ym'"
      ]
     },
     "execution_count": 15,
     "metadata": {},
     "output_type": "execute_result"
    }
   ],
   "source": [
    "x[::-1]        # reversing a string"
   ]
  },
  {
   "cell_type": "code",
   "execution_count": 18,
   "id": "bdfc6d5b",
   "metadata": {},
   "outputs": [
    {
     "data": {
      "text/plain": [
       "'ty nate is'"
      ]
     },
     "execution_count": 18,
     "metadata": {},
     "output_type": "execute_result"
    }
   ],
   "source": [
    "x.replace('m','t')   # replacing m with t, note that this is reconstruction of string and the original strimg is not changed\n"
   ]
  },
  {
   "cell_type": "code",
   "execution_count": 21,
   "id": "37cc4e92",
   "metadata": {},
   "outputs": [
    {
     "data": {
      "text/plain": [
       "'ty nate is'"
      ]
     },
     "execution_count": 21,
     "metadata": {},
     "output_type": "execute_result"
    }
   ],
   "source": [
    "x = x.replace('m','t')\n",
    "x                                    # here the changes in x are made and then reassigned to x, this is not mutability\n"
   ]
  },
  {
   "cell_type": "code",
   "execution_count": 3,
   "id": "3703ce53",
   "metadata": {},
   "outputs": [
    {
     "name": "stdout",
     "output_type": "stream",
     "text": [
      "asdcxzasd\n",
      "asdcxzasdhjjkl\n"
     ]
    }
   ],
   "source": [
    "x = input()\n",
    "print(x + \"hjjkl\")"
   ]
  },
  {
   "cell_type": "code",
   "execution_count": 5,
   "id": "b865ec40",
   "metadata": {},
   "outputs": [
    {
     "name": "stdout",
     "output_type": "stream",
     "text": [
      "enter the data to check if it is a palindromemadam\n"
     ]
    }
   ],
   "source": [
    "s = input(\"enter the data to check if it is a palindrome\")\n",
    "for i in range(len(s)):\n",
    "    if s[i] == s[-i - 1]:\n",
    "        continue\n",
    "    else:\n",
    "        break\n",
    "    print(\"yes\")                 # not proper method to check a palindrome\n",
    "    "
   ]
  },
  {
   "cell_type": "code",
   "execution_count": 18,
   "id": "5f9ff480",
   "metadata": {},
   "outputs": [
    {
     "name": "stdout",
     "output_type": "stream",
     "text": [
      "7\n",
      " is nilesh, and name of org is adobe\n",
      "23\n"
     ]
    }
   ],
   "source": [
    "s = \"my name is nilesh, and name of org is adobe\"\n",
    "len(s)\n",
    "x = s.find(\"name\")\n",
    "y = x + len(\"name\")\n",
    "print(y)\n",
    "s1 = s[y:len(s):]\n",
    "print(s1)\n",
    "z = s1.find(\"name\")\n",
    "print(y + z)\n",
    "#a = s.find(\"name\")\n",
    "#print(a)\n",
    "\n",
    "    "
   ]
  },
  {
   "cell_type": "code",
   "execution_count": 7,
   "id": "25009fa8",
   "metadata": {},
   "outputs": [
    {
     "name": "stdout",
     "output_type": "stream",
     "text": [
      "enter the data to check if it is a palindromemadam\n",
      "yes\n"
     ]
    }
   ],
   "source": [
    "s = input(\"enter the data to check if it is a palindrome\")\n",
    "s1 = s[::-1]\n",
    "if s == s1:\n",
    "    print(\"yes\")\n",
    "else:\n",
    "    print(\"no\")\n",
    "    "
   ]
  },
  {
   "cell_type": "code",
   "execution_count": 8,
   "id": "d2abe2c9",
   "metadata": {},
   "outputs": [
    {
     "name": "stdout",
     "output_type": "stream",
     "text": [
      "['n', 'i', 'l', 'e', 's', 'h']\n"
     ]
    }
   ],
   "source": [
    "l = [45,36,35,41]\n",
    "s = \"nilesh\"\n",
    "s = list(s)\n",
    "print(s)"
   ]
  },
  {
   "cell_type": "code",
   "execution_count": 9,
   "id": "9ca456ca",
   "metadata": {},
   "outputs": [
    {
     "data": {
      "text/plain": [
       "[45, 36, 35, 41, 'n', 'i', 'l', 'e', 's', 'h']"
      ]
     },
     "execution_count": 9,
     "metadata": {},
     "output_type": "execute_result"
    }
   ],
   "source": [
    "l + s"
   ]
  },
  {
   "cell_type": "code",
   "execution_count": 11,
   "id": "3d2f45a1",
   "metadata": {},
   "outputs": [],
   "source": [
    "l.append(s)"
   ]
  },
  {
   "cell_type": "code",
   "execution_count": 19,
   "id": "a6aec26e",
   "metadata": {},
   "outputs": [
    {
     "data": {
      "text/plain": [
       "[1, 2, 3, 4, 5, 6, 'nil']"
      ]
     },
     "execution_count": 19,
     "metadata": {},
     "output_type": "execute_result"
    }
   ],
   "source": [
    "l = [1,2,3,4,5,6]\n",
    "l.append(\"nil\")\n",
    "l"
   ]
  },
  {
   "cell_type": "code",
   "execution_count": 20,
   "id": "d7f3d931",
   "metadata": {},
   "outputs": [
    {
     "data": {
      "text/plain": [
       "[1, 2, 'two', 3, 4, 5, 6, 'nil']"
      ]
     },
     "execution_count": 20,
     "metadata": {},
     "output_type": "execute_result"
    }
   ],
   "source": [
    "l.insert(2,\"two\")\n",
    "l"
   ]
  },
  {
   "cell_type": "code",
   "execution_count": 21,
   "id": "ce1b360f",
   "metadata": {},
   "outputs": [
    {
     "data": {
      "text/plain": [
       "[1, 2, 3, 4, [5, 6, 7, 8]]"
      ]
     },
     "execution_count": 21,
     "metadata": {},
     "output_type": "execute_result"
    }
   ],
   "source": [
    "x = [1,2,3,4]\n",
    "x.append([5,6,7,8])\n",
    "x"
   ]
  },
  {
   "cell_type": "code",
   "execution_count": 22,
   "id": "dbae4b4a",
   "metadata": {},
   "outputs": [
    {
     "data": {
      "text/plain": [
       "[1, 2, 3, 4, [5, 6, 7, 8], 5, 6, 7, 8]"
      ]
     },
     "execution_count": 22,
     "metadata": {},
     "output_type": "execute_result"
    }
   ],
   "source": [
    "x.extend([5,6,7,8])\n",
    "x                                 # extebd first unpacks the list data then add at the end"
   ]
  },
  {
   "cell_type": "code",
   "execution_count": 3,
   "id": "fd8d45e6",
   "metadata": {},
   "outputs": [
    {
     "data": {
      "text/plain": [
       "[1, 2, 3, 5, 6]"
      ]
     },
     "execution_count": 3,
     "metadata": {},
     "output_type": "execute_result"
    }
   ],
   "source": [
    "l = [1,2,3,4,5,6]\n",
    "l.index(4)\n",
    "l.remove(4)\n",
    "l"
   ]
  },
  {
   "cell_type": "code",
   "execution_count": 29,
   "id": "c8bfb359",
   "metadata": {},
   "outputs": [
    {
     "name": "stdout",
     "output_type": "stream",
     "text": [
      "this\n",
      "0\n",
      "quora\n",
      "1\n"
     ]
    },
    {
     "data": {
      "text/plain": [
       "[[1, 2], [3, 4, 5], (5+6j), ['bbb'], [7, 8]]"
      ]
     },
     "execution_count": 29,
     "metadata": {},
     "output_type": "execute_result"
    }
   ],
   "source": [
    "lst = [[1,2],[3,4,5],[\"this\",\"bbb\",\"quora\"]]\n",
    "lst.append([7,8])\n",
    "lst.insert(2, 5+6j)\n",
    "lst\n",
    "for i in lst:\n",
    "    if type(i) == list:\n",
    "        for x,y in enumerate(i):\n",
    "            if type(y) == str:\n",
    "                print(y)\n",
    "                print(x)\n",
    "                i.pop(x)\n",
    "               \n",
    "                                           # How to solve this?\n",
    "lst                "
   ]
  },
  {
   "cell_type": "code",
   "execution_count": 2,
   "id": "babcd36c",
   "metadata": {},
   "outputs": [
    {
     "ename": "NameError",
     "evalue": "name 'lst' is not defined",
     "output_type": "error",
     "traceback": [
      "\u001b[1;31m---------------------------------------------------------------------------\u001b[0m",
      "\u001b[1;31mNameError\u001b[0m                                 Traceback (most recent call last)",
      "\u001b[1;32m<ipython-input-2-e35355a714c3>\u001b[0m in \u001b[0;36m<module>\u001b[1;34m\u001b[0m\n\u001b[1;32m----> 1\u001b[1;33m \u001b[1;32mfor\u001b[0m \u001b[0mi\u001b[0m \u001b[1;32min\u001b[0m \u001b[0mlst\u001b[0m\u001b[1;33m:\u001b[0m\u001b[1;33m\u001b[0m\u001b[1;33m\u001b[0m\u001b[0m\n\u001b[0m\u001b[0;32m      2\u001b[0m     \u001b[1;32mif\u001b[0m \u001b[0mtype\u001b[0m\u001b[1;33m(\u001b[0m\u001b[0mi\u001b[0m\u001b[1;33m)\u001b[0m \u001b[1;33m==\u001b[0m \u001b[0mlist\u001b[0m\u001b[1;33m:\u001b[0m\u001b[1;33m\u001b[0m\u001b[1;33m\u001b[0m\u001b[0m\n\u001b[0;32m      3\u001b[0m         \u001b[1;32mfor\u001b[0m \u001b[0mt\u001b[0m \u001b[1;32min\u001b[0m \u001b[0mi\u001b[0m\u001b[1;33m:\u001b[0m\u001b[1;33m\u001b[0m\u001b[1;33m\u001b[0m\u001b[0m\n\u001b[0;32m      4\u001b[0m             \u001b[1;32mif\u001b[0m \u001b[0mtype\u001b[0m\u001b[1;33m(\u001b[0m\u001b[0mt\u001b[0m\u001b[1;33m)\u001b[0m \u001b[1;33m==\u001b[0m \u001b[0mstr\u001b[0m\u001b[1;33m:\u001b[0m\u001b[1;33m\u001b[0m\u001b[1;33m\u001b[0m\u001b[0m\n\u001b[0;32m      5\u001b[0m                 \u001b[0mprint\u001b[0m\u001b[1;33m(\u001b[0m\u001b[0mt\u001b[0m\u001b[1;33m)\u001b[0m\u001b[1;33m\u001b[0m\u001b[1;33m\u001b[0m\u001b[0m\n",
      "\u001b[1;31mNameError\u001b[0m: name 'lst' is not defined"
     ]
    }
   ],
   "source": [
    "for i in lst:\n",
    "    if type(i) == list:\n",
    "        for t in i:\n",
    "            if type(t) == str:\n",
    "                print(t)\n",
    "                \n",
    "    \n",
    "                \n",
    "                \n",
    "            "
   ]
  },
  {
   "cell_type": "code",
   "execution_count": 15,
   "id": "d2effaf8",
   "metadata": {},
   "outputs": [
    {
     "name": "stdout",
     "output_type": "stream",
     "text": [
      "vgg\n"
     ]
    }
   ],
   "source": [
    "l = [1,2,3,4,'loid',5,6,[\"hvufkh\",\"vgg\"]]\n",
    "print(l[7][1])"
   ]
  },
  {
   "cell_type": "code",
   "execution_count": 18,
   "id": "31e7beac",
   "metadata": {},
   "outputs": [
    {
     "name": "stdout",
     "output_type": "stream",
     "text": [
      "0\n",
      "2\n",
      "1\n",
      "3\n",
      "2\n",
      "4\n",
      "3\n",
      "5\n",
      "4\n",
      "6\n",
      "5\n",
      "aaa\n",
      "6\n",
      "aaa\n",
      "7\n",
      "jkl\n",
      "8\n",
      "5\n",
      "9\n",
      "6\n"
     ]
    }
   ],
   "source": [
    "l = [2,3,4,5,6,\"aaa\",\"aaa\",\"jkl\",5,6]\n",
    "\n",
    "for x,y in enumerate(l):\n",
    "    print(x)\n",
    "    print(y)"
   ]
  },
  {
   "cell_type": "markdown",
   "id": "29bd2e87",
   "metadata": {},
   "source": [
    "##### List Comprehension"
   ]
  },
  {
   "cell_type": "code",
   "execution_count": 6,
   "id": "93c7a665",
   "metadata": {},
   "outputs": [
    {
     "data": {
      "text/plain": [
       "[0, 2, 4, 6, 8]"
      ]
     },
     "execution_count": 6,
     "metadata": {},
     "output_type": "execute_result"
    }
   ],
   "source": [
    "[i  for i in range(10) if i%2 == 0  ]"
   ]
  },
  {
   "cell_type": "code",
   "execution_count": 8,
   "id": "0beff52a",
   "metadata": {},
   "outputs": [
    {
     "data": {
      "text/plain": [
       "['even', 'odd', 'even', 'odd', 'even', 'odd', 'even', 'odd', 'even', 'odd']"
      ]
     },
     "execution_count": 8,
     "metadata": {},
     "output_type": "execute_result"
    }
   ],
   "source": [
    "[\"odd\" if i%2 != 0  else \"even\" for i in range(10) ]"
   ]
  },
  {
   "cell_type": "code",
   "execution_count": 4,
   "id": "c02ee4d3",
   "metadata": {},
   "outputs": [
    {
     "name": "stdout",
     "output_type": "stream",
     "text": [
      "1 2 3 4\n"
     ]
    },
    {
     "data": {
      "text/plain": [
       "[1, 2, 3, 4]"
      ]
     },
     "execution_count": 4,
     "metadata": {},
     "output_type": "execute_result"
    }
   ],
   "source": [
    "#Map Function\n",
    "l = list(map(int, input().split()))\n",
    "l"
   ]
  },
  {
   "cell_type": "code",
   "execution_count": 5,
   "id": "52f700fc",
   "metadata": {},
   "outputs": [
    {
     "data": {
      "text/plain": [
       "['I', 'have', 'a', 'bonded']"
      ]
     },
     "execution_count": 5,
     "metadata": {},
     "output_type": "execute_result"
    }
   ],
   "source": [
    "s = \"I have a bonded\"\n",
    "s.split()"
   ]
  },
  {
   "cell_type": "code",
   "execution_count": 10,
   "id": "d1788d41",
   "metadata": {},
   "outputs": [
    {
     "name": "stdout",
     "output_type": "stream",
     "text": [
      "3\n",
      "Test1\n",
      "52\n",
      "Test2\n",
      "53\n",
      "Test3\n",
      "53\n"
     ]
    },
    {
     "ename": "IndexError",
     "evalue": "list index out of range",
     "output_type": "error",
     "traceback": [
      "\u001b[1;31m---------------------------------------------------------------------------\u001b[0m",
      "\u001b[1;31mIndexError\u001b[0m                                Traceback (most recent call last)",
      "\u001b[1;32m<ipython-input-10-1998fa1f8b00>\u001b[0m in \u001b[0;36m<module>\u001b[1;34m\u001b[0m\n\u001b[0;32m     17\u001b[0m     \u001b[1;32mif\u001b[0m \u001b[0mlst\u001b[0m\u001b[1;33m[\u001b[0m\u001b[0mi\u001b[0m\u001b[1;33m]\u001b[0m\u001b[1;33m[\u001b[0m\u001b[1;36m1\u001b[0m\u001b[1;33m]\u001b[0m \u001b[1;33m>\u001b[0m \u001b[0mminimum\u001b[0m\u001b[1;33m:\u001b[0m\u001b[1;33m\u001b[0m\u001b[1;33m\u001b[0m\u001b[0m\n\u001b[0;32m     18\u001b[0m         \u001b[0mlst1\u001b[0m\u001b[1;33m.\u001b[0m\u001b[0mappend\u001b[0m\u001b[1;33m(\u001b[0m\u001b[0mlst\u001b[0m\u001b[1;33m[\u001b[0m\u001b[0mi\u001b[0m\u001b[1;33m]\u001b[0m\u001b[1;33m[\u001b[0m\u001b[1;36m0\u001b[0m\u001b[1;33m]\u001b[0m\u001b[1;33m)\u001b[0m\u001b[1;33m\u001b[0m\u001b[1;33m\u001b[0m\u001b[0m\n\u001b[1;32m---> 19\u001b[1;33m         \u001b[1;32mif\u001b[0m \u001b[0mlst\u001b[0m\u001b[1;33m[\u001b[0m\u001b[0mi\u001b[0m\u001b[1;33m+\u001b[0m\u001b[1;36m1\u001b[0m\u001b[1;33m]\u001b[0m\u001b[1;33m[\u001b[0m\u001b[1;36m1\u001b[0m\u001b[1;33m]\u001b[0m \u001b[1;33m==\u001b[0m \u001b[0mlst\u001b[0m\u001b[1;33m[\u001b[0m\u001b[0mi\u001b[0m\u001b[1;33m]\u001b[0m\u001b[1;33m[\u001b[0m\u001b[1;36m1\u001b[0m\u001b[1;33m]\u001b[0m\u001b[1;33m:\u001b[0m\u001b[1;33m\u001b[0m\u001b[1;33m\u001b[0m\u001b[0m\n\u001b[0m\u001b[0;32m     20\u001b[0m             \u001b[1;32mcontinue\u001b[0m\u001b[1;33m\u001b[0m\u001b[1;33m\u001b[0m\u001b[0m\n\u001b[0;32m     21\u001b[0m         \u001b[1;32melse\u001b[0m\u001b[1;33m:\u001b[0m\u001b[1;33m\u001b[0m\u001b[1;33m\u001b[0m\u001b[0m\n",
      "\u001b[1;31mIndexError\u001b[0m: list index out of range"
     ]
    }
   ],
   "source": [
    "n = int(input())\n",
    "lst = []\n",
    "for i in range(n):\n",
    "    l1 = []\n",
    "    name = input()\n",
    "    l1.append(name)\n",
    "    score = float(input())\n",
    "    l1.append(score)\n",
    "        \n",
    "    lst.append(l1)\n",
    "    \n",
    "lst.sort(key = lambda x : x[1])\n",
    "m = min(lst, key = lambda x:x[1])\n",
    "minimum = m[1]\n",
    "lst1 = []\n",
    "for i in range(len(lst)):\n",
    "    if lst[i][1] > minimum:\n",
    "        lst1.append(lst[i][0])\n",
    "        if lst[i+1][1] == lst[i][1]:\n",
    "            continue\n",
    "        else:\n",
    "            break\n",
    "lst1.sort()\n",
    "for ele in lst1:\n",
    "    print(ele)\n",
    "    "
   ]
  },
  {
   "cell_type": "code",
   "execution_count": 9,
   "id": "b9225bd3",
   "metadata": {},
   "outputs": [
    {
     "name": "stdout",
     "output_type": "stream",
     "text": [
      "9\n"
     ]
    },
    {
     "data": {
      "text/plain": [
       "['c']"
      ]
     },
     "execution_count": 9,
     "metadata": {},
     "output_type": "execute_result"
    }
   ],
   "source": [
    "lst = [['a', 12.0], ['d', 13.0], ['c', 10.0],['d',25],['e',9]]\n",
    "lst.sort(key = lambda x : x[1])\n",
    "lst\n",
    "m = min(lst, key = lambda x:x[1])\n",
    "minimum = m[1]\n",
    "print(minimum)\n",
    "len(lst)\n",
    "lst1 = []\n",
    "for i in range(len(lst)):\n",
    "    if lst[i][1] > minimum:\n",
    "        lst1.append(lst[i][0])\n",
    "        if lst[i+1][1] == lst[i][1]:\n",
    "            continue\n",
    "        else:\n",
    "            break\n",
    "lst1            \n",
    "            \n",
    "        \n",
    "        "
   ]
  },
  {
   "cell_type": "code",
   "execution_count": 7,
   "id": "039cd57d",
   "metadata": {},
   "outputs": [
    {
     "name": "stdout",
     "output_type": "stream",
     "text": [
      "4\n",
      "a\n",
      "10\n",
      "d\n",
      "15\n",
      "c\n",
      "12\n",
      "b\n",
      "10\n"
     ]
    },
    {
     "data": {
      "text/plain": [
       "[[10.0, ['a', 'b']], [15.0, ['d']], [12.0, ['c']]]"
      ]
     },
     "execution_count": 7,
     "metadata": {},
     "output_type": "execute_result"
    }
   ],
   "source": [
    "score_list = {}\n",
    "n = int(input())\n",
    "for i in range(n):\n",
    "    name = input()\n",
    "    score = float(input())\n",
    "    if score in score_list:\n",
    "        score_list[score].append(name)\n",
    "    else:\n",
    "        score_list[score] = [name]\n",
    "new_list = []\n",
    "for i in score_list:\n",
    "    new_list.append([i, score_list[i]])\n",
    "new_list    "
   ]
  },
  {
   "cell_type": "code",
   "execution_count": 16,
   "id": "d0de2291",
   "metadata": {},
   "outputs": [
    {
     "name": "stdout",
     "output_type": "stream",
     "text": [
      "3\n"
     ]
    }
   ],
   "source": [
    "x,y,z = 1,2,3\n",
    "print(z)"
   ]
  },
  {
   "cell_type": "code",
   "execution_count": 17,
   "id": "7db53943",
   "metadata": {},
   "outputs": [
    {
     "name": "stdout",
     "output_type": "stream",
     "text": [
      "-5\n",
      "-4\n",
      "-3\n",
      "-2\n",
      "-1\n",
      "0\n",
      "1\n",
      "2\n",
      "3\n",
      "4\n"
     ]
    }
   ],
   "source": [
    "for i in range(-5,5):\n",
    "    print(i)"
   ]
  },
  {
   "cell_type": "code",
   "execution_count": null,
   "id": "32e02cfe",
   "metadata": {},
   "outputs": [],
   "source": [
    "x = "
   ]
  }
 ],
 "metadata": {
  "kernelspec": {
   "display_name": "Python 3",
   "language": "python",
   "name": "python3"
  },
  "language_info": {
   "codemirror_mode": {
    "name": "ipython",
    "version": 3
   },
   "file_extension": ".py",
   "mimetype": "text/x-python",
   "name": "python",
   "nbconvert_exporter": "python",
   "pygments_lexer": "ipython3",
   "version": "3.8.8"
  }
 },
 "nbformat": 4,
 "nbformat_minor": 5
}
